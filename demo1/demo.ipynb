{
 "cells": [
  {
   "cell_type": "code",
   "execution_count": 2,
   "source": [
    "import collections\r\n",
    "\r\n",
    "Website = collections.namedtuple('Website', 'url founding_year free_to_use')\r\n",
    "github = Website('https://github.com/', 2008, True)"
   ],
   "outputs": [],
   "metadata": {}
  }
 ],
 "metadata": {
  "orig_nbformat": 4,
  "language_info": {
   "name": "python",
   "version": "3.9.6",
   "mimetype": "text/x-python",
   "codemirror_mode": {
    "name": "ipython",
    "version": 3
   },
   "pygments_lexer": "ipython3",
   "nbconvert_exporter": "python",
   "file_extension": ".py"
  },
  "kernelspec": {
   "name": "python3",
   "display_name": "Python 3.9.6 64-bit ('.venv': venv)"
  },
  "interpreter": {
   "hash": "043f4f128727b68769a7db23e49146ec721250bdeea7d61589c38def0554b8fe"
  }
 },
 "nbformat": 4,
 "nbformat_minor": 2
}